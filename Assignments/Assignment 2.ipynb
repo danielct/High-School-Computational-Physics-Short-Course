{
 "cells": [
  {
   "cell_type": "code",
   "execution_count": 1,
   "metadata": {},
   "outputs": [],
   "source": [
    "import numpy as np\n",
    "import matplotlib.pyplot as plt"
   ]
  },
  {
   "cell_type": "markdown",
   "metadata": {},
   "source": [
    "Below I have written a function that implements the Euler method. Study it closely and understand how it works"
   ]
  },
  {
   "cell_type": "code",
   "execution_count": 2,
   "metadata": {},
   "outputs": [],
   "source": [
    "def euler(xs, xe, y0, h, f):\n",
    "    '''Solves the differential equation dy/dx = f(x); y(xs) = y0 over the interval xs to xe using the Euler method\n",
    "    with a step size h.\n",
    "    \n",
    "    xs: start x value\n",
    "    xe: end x value\n",
    "    h: step size\n",
    "    f: function that returns the derivative\n",
    "    \n",
    "    returns:\n",
    "        xvals: an array of x values\n",
    "        yvals: a corresponding array of y values\n",
    "    '''\n",
    "    \n",
    "    # Simple sanity checks on the inputs\n",
    "    if xs > xe: raise ValueError('xs cannot be larger than xe')\n",
    "       \n",
    "    # Initialise some things\n",
    "    nSteps = int((xe-xs)/h)+1\n",
    "    xVals = np.zeros(nSteps)\n",
    "    yVals = np.zeros(nSteps)\n",
    "    \n",
    "    xVals[0] = xs\n",
    "    yVals[0] = y0\n",
    "    \n",
    "    for i in range(nSteps-1):\n",
    "        yCurr = yVals[i]\n",
    "        xCurr = xVals[i]\n",
    "        \n",
    "        fval = f(xCurr)\n",
    "        \n",
    "        deltay = h*fval\n",
    "        \n",
    "        yNext = yCurr + deltay\n",
    "        xNext = xCurr + h\n",
    "        \n",
    "        yVals[i+1] = yNext\n",
    "        xVals[i+1] = xNext\n",
    "    return xVals, yVals\n",
    "    "
   ]
  },
  {
   "cell_type": "markdown",
   "metadata": {},
   "source": [
    "In the cell below I show how to use this function to solve the differential equation $\\frac{dy}{dx} = 2x$, with $y(0)=0$ on the interval $ (0, 2.5)$, using a step size $h=0.5$. The exact solution to this equation is $y = x^2$. I also plot the exact solution and the approximate one. Notice that the Euler method \"undershoots\" the exact solution.\n",
    "\n",
    "Experiment by changing the step size and running the cell. **At what step size is the approximate solution very close to the exact one?**"
   ]
  },
  {
   "cell_type": "code",
   "execution_count": 3,
   "metadata": {},
   "outputs": [
    {
     "data": {
      "text/plain": [
       "<matplotlib.legend.Legend at 0x133dc0da348>"
      ]
     },
     "execution_count": 3,
     "metadata": {},
     "output_type": "execute_result"
    },
    {
     "data": {
      "image/png": "[encoded data removed]",
      "text/plain": [
       "<Figure size 432x288 with 1 Axes>"
      ]
     },
     "metadata": {
      "needs_background": "light"
     },
     "output_type": "display_data"
    }
   ],
   "source": [
    "# Step size for which the approximate solution is close to the exact one: \n",
    "\n",
    "\n",
    "f1 = lambda x: 2*x\n",
    "# Note: f1 = lambda x: 2*x is the same as saying\n",
    "# def f1(x):\n",
    "#    return 2*x\n",
    "# For more info: https://www.w3schools.com/python/python_lambda.asp\n",
    "\n",
    "\n",
    "x, y = euler(0, 2.5, 0, 0.5, f1)\n",
    "# Note here we could instead write x, y = euler(0, 2.5, 0, 0.5, lambda x: 2*x)\n",
    "\n",
    "xTrue = np.linspace(0, 2.5, 100)\n",
    "yTrue = xTrue**2\n",
    "plt.plot(x, y, xTrue, yTrue)\n",
    "plt.legend((\"Euler\", \"Exact\"))\n"
   ]
  },
  {
   "cell_type": "markdown",
   "metadata": {},
   "source": [
    "**By modifying the example above, Write a short bit of code to solve the differential equation $\\frac{dy}{dx} = 2x+1$, with y(0) = 0 on the interval  $(0, 2.5)$ using a step size $h=0.5$. Compare the output to the entries you wrote in the table in the first part of the assignment.**"
   ]
  },
  {
   "cell_type": "code",
   "execution_count": null,
   "metadata": {},
   "outputs": [],
   "source": []
  },
  {
   "cell_type": "markdown",
   "metadata": {},
   "source": [
    "**Now I want you to write a function that implenents the midpoint method. You can copy my code for the euler method (make sure you change the function name) and modify it. You only need to make a small change.**"
   ]
  },
  {
   "cell_type": "code",
   "execution_count": null,
   "metadata": {},
   "outputs": [],
   "source": []
  },
  {
   "cell_type": "markdown",
   "metadata": {},
   "source": [
    "**Now I want you to make a comparison of the two methods. You should solve the differential equation $\\frac{dy}{dx} = -e^x + 14x$ with $y(0) = 0$ on the interval $(0, 6)$. Do this with both the Euler method and the midpoint method (step size $h=1$ in both cases) and then plot a graph showing the exact solution, the approximate solution using the Euler method, and the exact solution using the midpoint method (include legends). Restrict the y range of your plot to \\[-50, 75\\]**\n",
    "\n",
    "Note: the exact solution is $y(x) = -e^x + 7x^2$"
   ]
  },
  {
   "cell_type": "code",
   "execution_count": 4,
   "metadata": {},
   "outputs": [],
   "source": [
    "# Note to compute e^x, you can use numpy.exp(x)."
   ]
  },
  {
   "cell_type": "markdown",
   "metadata": {},
   "source": [
    "Now we will make another comparison, this time about the convergence of the two methods. By convergence, we mean how quickly the method becomes more accurate with decreasing step size. I'll focus just on the differential equation $\\frac{dy}{dx} = \\cos{x}$; $y(0) = 0$ on the interval $(0, \\pi)$ (the exact solution is $y=x^2$) and the Euler method. I'll use this procedure:\n",
    "  1. Pick a step size and use the Euler method with that step size to solve the equation.\n",
    "  2. Compute the *mean squared error* of my approximate solution. The MSE is defined as $\\mathrm{MSE} = \\sum_{n=0}^N \\left(y_{\\mathrm{true}}(x_n) - y_{\\mathrm{approx}}(x_n)\\right)^2$. That is, for each of my x values, I should find the difference between the approximate solution and the exact solution, and then square it. I should add up these squared differences for each of my x values.\n",
    "  3. Repeat 1-2 with a smaller step size\n",
    "Then I'll make a plot of MSE vs step size.\n",
    "\n",
    "Note: I have decided to reduce the step size by a factor of 2 each time. I want to cover a large range of step sizes."
   ]
  },
  {
   "cell_type": "code",
   "execution_count": 17,
   "metadata": {},
   "outputs": [
    {
     "data": {
      "image/png": "[encoded data removed]",
      "text/plain": [
       "<Figure size 432x288 with 1 Axes>"
      ]
     },
     "metadata": {
      "needs_background": "light"
     },
     "output_type": "display_data"
    },
    {
     "data": {
      "image/png": "[encoded data removed]",
      "text/plain": [
       "<Figure size 432x288 with 1 Axes>"
      ]
     },
     "metadata": {
      "needs_background": "light"
     },
     "output_type": "display_data"
    }
   ],
   "source": [
    "# If you make this larger than about 20, the code will take a very long time to run because the step sizes will get very small.\n",
    "nStepSizes = 10\n",
    "\n",
    "errors = np.zeros(nStepSizes)\n",
    "stepSizes = np.zeros(nStepSizes)\n",
    "\n",
    "for i in range(nStepSizes):\n",
    "    if i==0: stepSize = 1\n",
    "    else: stepSize = stepSizes[i-1] / 2\n",
    "        \n",
    "    xApprox, yApprox = euler(0, np.pi, 0, stepSize, lambda x: np.cos(x))\n",
    "    yExact = np.sin(xApprox)\n",
    "    MSE = np.sum( (yExact - yApprox)**2)\n",
    "    errors[i] = MSE\n",
    "    stepSizes[i] = stepSize\n",
    "    \n",
    "plt.plot(stepSizes, errors, 'o')\n",
    "#This reverses the x axis\n",
    "plt.gca().invert_xaxis()\n",
    "plt.xlabel('Step Size')\n",
    "plt.ylabel('MSE')\n",
    "plt.title('Convergence of Euler Method')\n",
    "plt.show()\n",
    "\n",
    "plt.loglog(stepSizes, errors, 'o')\n",
    "#This reverses the x axis\n",
    "plt.gca().invert_xaxis()\n",
    "plt.xlabel('Step Size')\n",
    "plt.ylabel('MSE')\n",
    "plt.title('Convergence of Euler Method (log-log)')\n",
    "plt.show()"
   ]
  },
  {
   "cell_type": "markdown",
   "metadata": {},
   "source": [
    "As we expected, the graphs above show that as the step size is reduced the MSE decreases. Note I plotted the second graph with logarithmic axes since the step sizes and MSEs vary over a massive range. \n",
    "**Using the second graph, complete the sentence below**"
   ]
  },
  {
   "cell_type": "markdown",
   "metadata": {},
   "source": [
    "In this situation, if the step size is decreased by 10 times, the MSE decreases by ......."
   ]
  },
  {
   "cell_type": "markdown",
   "metadata": {},
   "source": [
    "Copy my code from above and add a comparison with the midpoint method. As with my code, you should produce two graphs. Each graph should plot MSE versus Step Size, but both graphs should show this for the Euler method *and* the midpoint method. Include legends on your plots"
   ]
  },
  {
   "cell_type": "code",
   "execution_count": null,
   "metadata": {},
   "outputs": [],
   "source": []
  },
  {
   "cell_type": "markdown",
   "metadata": {},
   "source": [
    "Based on your second graph, compare the Euler method and the midpoint method. Do they converge at the same rate, or does one converge a little faster, or does one converge a lot faster? With the same step size, do both methods take the same amount of time to run? (you can answer this question without running any code). Which method is better?\n",
    "\n",
    "*(max 3-5 sentences)*\n",
    "\n",
    "*Note: some useful phrases might be*\n",
    "- *With a step size of ... the ... method has an error ..... times smaller than the .... method*\n",
    "- *Reducing the step size by a factor of 10 reduces the error by .... for the .... method, but only by .... for the ... method*"
   ]
  },
  {
   "cell_type": "markdown",
   "metadata": {},
   "source": []
  },
  {
   "cell_type": "markdown",
   "metadata": {},
   "source": [
    "**Challenges:**\n",
    "1. Look up the fourth-order runge-kutta method (wikipedia) and write some code to implement it.\n",
    "\n"
   ]
  },
  {
   "cell_type": "code",
   "execution_count": null,
   "metadata": {},
   "outputs": [],
   "source": []
  }
 ],
 "metadata": {
  "kernelspec": {
   "display_name": "Python 3",
   "language": "python",
   "name": "python3"
  },
  "language_info": {
   "codemirror_mode": {
    "name": "ipython",
    "version": 3
   },
   "file_extension": ".py",
   "mimetype": "text/x-python",
   "name": "python",
   "nbconvert_exporter": "python",
   "pygments_lexer": "ipython3",
   "version": "3.7.6"
  }
 },
 "nbformat": 4,
 "nbformat_minor": 4
}
